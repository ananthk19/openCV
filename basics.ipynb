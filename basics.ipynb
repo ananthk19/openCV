{
 "cells": [
  {
   "cell_type": "code",
   "execution_count": 2,
   "metadata": {},
   "outputs": [],
   "source": [
    "import cv2 as cv\n",
    "import numpy as np"
   ]
  },
  {
   "attachments": {},
   "cell_type": "markdown",
   "metadata": {},
   "source": [
    "Read Image"
   ]
  },
  {
   "cell_type": "code",
   "execution_count": 1,
   "metadata": {},
   "outputs": [
    {
     "name": "stderr",
     "output_type": "stream",
     "text": [
      "Warning: Ignoring XDG_SESSION_TYPE=wayland on Gnome. Use QT_QPA_PLATFORM=wayland to run on Wayland anyway.\n"
     ]
    }
   ],
   "source": [
    "image = cv.imread('./Resources/Photos/cat.jpg')\n",
    "\n",
    "cv.imshow('Cat', image)\n",
    "cv.waitKey(0)\n",
    "cv.destroyAllWindows()"
   ]
  },
  {
   "attachments": {},
   "cell_type": "markdown",
   "metadata": {},
   "source": [
    "Read videos"
   ]
  },
  {
   "cell_type": "code",
   "execution_count": 9,
   "metadata": {},
   "outputs": [],
   "source": [
    "capture = cv.VideoCapture('./Resources/Videos/dog.mp4')\n",
    "\n",
    "while True:\n",
    "    isTrue, frame = capture.read()\n",
    "\n",
    "    if isTrue:\n",
    "        frame = rescaleFrame(frame)\n",
    "        cv.imshow('Video', frame)\n",
    "        cv.waitKey(1)\n",
    "    \n",
    "    else:\n",
    "        cv.destroyAllWindows()\n",
    "        break\n",
    "\n",
    "capture.release()"
   ]
  },
  {
   "attachments": {},
   "cell_type": "markdown",
   "metadata": {},
   "source": [
    "Resizing and Rescaling"
   ]
  },
  {
   "cell_type": "code",
   "execution_count": 6,
   "metadata": {},
   "outputs": [],
   "source": [
    "def rescaleFrame(frame, scale=0.5):\n",
    "    height = int(frame.shape[0]*scale)\n",
    "    width = int(frame.shape[1]*scale)\n",
    "    dimensions = (width,height)\n",
    "\n",
    "    return cv.resize(frame, dimensions, interpolation=cv.INTER_AREA)"
   ]
  },
  {
   "cell_type": "code",
   "execution_count": 10,
   "metadata": {},
   "outputs": [],
   "source": [
    "large_cat = cv.imread('./Resources//Photos/cat_large.jpg')\n",
    "cv.imshow('LargeCat', large_cat)\n",
    "cv.waitKey(0)\n",
    "\n",
    "small_cat = rescaleFrame(large_cat)\n",
    "cv.imshow('LargeCat', small_cat)\n",
    "cv.waitKey(0)\n",
    "cv.destroyAllWindows()"
   ]
  },
  {
   "attachments": {},
   "cell_type": "markdown",
   "metadata": {},
   "source": [
    "Drawing shapes & texts on images"
   ]
  },
  {
   "cell_type": "code",
   "execution_count": 15,
   "metadata": {},
   "outputs": [],
   "source": [
    "blank = np.zeros((500,500,3), dtype='uint8')\n",
    "cv.imshow(\"Blank\", blank)\n",
    "\n",
    "# blank[200:300,0:500] = 255,0,0\n",
    "# cv.imshow(\"blue\",blank)\n",
    "\n",
    "cv.rectangle(blank, (0,0), (250,400), (255,0,0), thickness=-1)\n",
    "cv.imshow('Rectangle', blank)\n",
    "cv.circle(blank, (375,250), (100), (0,255,0), thickness=-1)\n",
    "cv.imshow('Rectangle & circle', blank)\n",
    "cv.line(blank,(0,0),(375,250),(255,255,255),thickness=5)\n",
    "cv.imshow(\"Rectangle, Circle & Line\", blank)\n",
    "cv.putText(blank, 'Hail Hitler-ji', (150,250), cv.FONT_HERSHEY_COMPLEX, 1.0, (255, 165, 0),2 )\n",
    "cv.imshow(\"Rectangle, Circle, Line & Text\", blank)\n",
    "\n",
    "cv.waitKey(0)\n",
    "cv.destroyAllWindows()"
   ]
  },
  {
   "attachments": {},
   "cell_type": "markdown",
   "metadata": {},
   "source": [
    "5 Essentail Fn's"
   ]
  },
  {
   "attachments": {},
   "cell_type": "markdown",
   "metadata": {},
   "source": [
    "image to grayscale"
   ]
  },
  {
   "cell_type": "code",
   "execution_count": 16,
   "metadata": {},
   "outputs": [],
   "source": [
    "cat = cv.imread('./Resources/Photos/cat.jpg')\n",
    "cv.imshow(\"This is a cat\", cat)\n",
    "gray_cat = cv.cvtColor(cat, cv.COLOR_BGR2GRAY)\n",
    "cv.imshow(\"But this is a gray cat\", gray_cat)\n",
    "cv.waitKey(0)\n",
    "cv.destroyAllWindows() "
   ]
  }
 ],
 "metadata": {
  "kernelspec": {
   "display_name": "Python 3",
   "language": "python",
   "name": "python3"
  },
  "language_info": {
   "codemirror_mode": {
    "name": "ipython",
    "version": 3
   },
   "file_extension": ".py",
   "mimetype": "text/x-python",
   "name": "python",
   "nbconvert_exporter": "python",
   "pygments_lexer": "ipython3",
   "version": "3.10.9"
  },
  "orig_nbformat": 4,
  "vscode": {
   "interpreter": {
    "hash": "e7370f93d1d0cde622a1f8e1c04877d8463912d04d973331ad4851f04de6915a"
   }
  }
 },
 "nbformat": 4,
 "nbformat_minor": 2
}
